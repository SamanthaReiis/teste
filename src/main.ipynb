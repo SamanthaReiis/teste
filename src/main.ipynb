{
 "cells": [
  {
   "cell_type": "code",
   "execution_count": 1,
   "metadata": {
    "scrolled": true
   },
   "outputs": [],
   "source": [
    "import pandas as pd\n",
    "import os\n",
    "from sqlalchemy import create_engine\n",
    "import sqlite3\n",
    "from clean_data import carregar_dados, padronizar_dados, padronizar_binarios, tratar_datas, criar_faixa_etaria,tratar_respostas_multiescolha\n",
    "from analyze_data import (\n",
    "    analisar_dados,\n",
    "    distribuicao_variaveis_categoricas,\n",
    "    verificar_outliers,\n",
    "    tratar_outliers,\n",
    "    verificar_datas,\n",
    "    verificar_duplicatas,\n",
    "    correlacao_variaveis_numericas,\n",
    "    cruzar_variaveis,\n",
    "    agregar_dados\n",
    ")\n",
    "\n",
    "from analyze_data import calcular_limites_iqr\n",
    "\n"
   ]
  },
  {
   "cell_type": "code",
   "execution_count": 2,
   "metadata": {},
   "outputs": [],
   "source": [
    "# Carregar DataFrame \n",
    "caminho_arquivo = r\"C:\\Users\\saman\\Documents\\teste_DIT\\data\\dados_ficha_a_desafio.csv\"  # ou outro caminho para um arquivo .json, .xlsx, .parquet\n",
    "df = carregar_dados(caminho_arquivo)"
   ]
  },
  {
   "cell_type": "code",
   "execution_count": 25,
   "metadata": {
    "collapsed": true
   },
   "outputs": [
    {
     "data": {
      "text/html": [
       "<div>\n",
       "<style scoped>\n",
       "    .dataframe tbody tr th:only-of-type {\n",
       "        vertical-align: middle;\n",
       "    }\n",
       "\n",
       "    .dataframe tbody tr th {\n",
       "        vertical-align: top;\n",
       "    }\n",
       "\n",
       "    .dataframe thead th {\n",
       "        text-align: right;\n",
       "    }\n",
       "</style>\n",
       "<table border=\"1\" class=\"dataframe\">\n",
       "  <thead>\n",
       "    <tr style=\"text-align: right;\">\n",
       "      <th></th>\n",
       "      <th>id_paciente</th>\n",
       "      <th>sexo</th>\n",
       "      <th>obito</th>\n",
       "      <th>bairro</th>\n",
       "      <th>raca_cor</th>\n",
       "      <th>ocupacao</th>\n",
       "      <th>religiao</th>\n",
       "      <th>luz_eletrica</th>\n",
       "      <th>data_cadastro</th>\n",
       "      <th>escolaridade</th>\n",
       "      <th>...</th>\n",
       "      <th>familia_beneficiaria_auxilio_brasil</th>\n",
       "      <th>crianca_matriculada_creche_pre_escola</th>\n",
       "      <th>altura</th>\n",
       "      <th>peso</th>\n",
       "      <th>pressao_sistolica</th>\n",
       "      <th>pressao_diastolica</th>\n",
       "      <th>n_atendimentos_atencao_primaria</th>\n",
       "      <th>n_atendimentos_hospital</th>\n",
       "      <th>updated_at</th>\n",
       "      <th>tipo</th>\n",
       "    </tr>\n",
       "  </thead>\n",
       "  <tbody>\n",
       "    <tr>\n",
       "      <th>0</th>\n",
       "      <td>cd6daa6e-038d-4952-af29-579e62e07f97</td>\n",
       "      <td>male</td>\n",
       "      <td>0</td>\n",
       "      <td>Parada de Lucas</td>\n",
       "      <td>Branca</td>\n",
       "      <td>Não se aplica</td>\n",
       "      <td>Sem religião</td>\n",
       "      <td>True</td>\n",
       "      <td>2021-06-24 00:00:00.000</td>\n",
       "      <td>Fundamental Incompleto</td>\n",
       "      <td>...</td>\n",
       "      <td>0</td>\n",
       "      <td>0</td>\n",
       "      <td>172.0</td>\n",
       "      <td>52.5</td>\n",
       "      <td>110.0</td>\n",
       "      <td>70.0</td>\n",
       "      <td>8</td>\n",
       "      <td>9</td>\n",
       "      <td>2021-06-01 00:00:00.000</td>\n",
       "      <td>historico</td>\n",
       "    </tr>\n",
       "    <tr>\n",
       "      <th>1</th>\n",
       "      <td>ad6cecb2-3a44-49ab-b2f3-6f9ffc2e2ec7</td>\n",
       "      <td>male</td>\n",
       "      <td>0</td>\n",
       "      <td>Cidade Nova</td>\n",
       "      <td>Parda</td>\n",
       "      <td>Assistente Administrativo</td>\n",
       "      <td>Evangélica</td>\n",
       "      <td>1</td>\n",
       "      <td>2021-01-07 00:00:00.000</td>\n",
       "      <td>Médio Incompleto</td>\n",
       "      <td>...</td>\n",
       "      <td>1</td>\n",
       "      <td>0</td>\n",
       "      <td>158.0</td>\n",
       "      <td>76.2</td>\n",
       "      <td>140.0</td>\n",
       "      <td>80.0</td>\n",
       "      <td>0</td>\n",
       "      <td>6</td>\n",
       "      <td>2020-06-25 00:00:00.000</td>\n",
       "      <td>historico</td>\n",
       "    </tr>\n",
       "    <tr>\n",
       "      <th>2</th>\n",
       "      <td>54e834e7-e722-4daa-8909-cf917a1247e6</td>\n",
       "      <td>male</td>\n",
       "      <td>0</td>\n",
       "      <td>Santa cruz</td>\n",
       "      <td>Parda</td>\n",
       "      <td>Não se aplica</td>\n",
       "      <td>Católica</td>\n",
       "      <td>1</td>\n",
       "      <td>2021-02-18 00:00:00.000</td>\n",
       "      <td>Fundamental Completo</td>\n",
       "      <td>...</td>\n",
       "      <td>0</td>\n",
       "      <td>0</td>\n",
       "      <td>53.0</td>\n",
       "      <td>82.5</td>\n",
       "      <td>180.0</td>\n",
       "      <td>60.0</td>\n",
       "      <td>5</td>\n",
       "      <td>2</td>\n",
       "      <td>2020-03-02 00:00:00.000</td>\n",
       "      <td>historico</td>\n",
       "    </tr>\n",
       "    <tr>\n",
       "      <th>3</th>\n",
       "      <td>c6a71e5e-0933-48d1-9d5a-8f448dc37f71</td>\n",
       "      <td>female</td>\n",
       "      <td>False</td>\n",
       "      <td>Bangu</td>\n",
       "      <td>Branca</td>\n",
       "      <td>Representante Comercial Autônomo</td>\n",
       "      <td>Sem religião</td>\n",
       "      <td>1</td>\n",
       "      <td>2022-03-09 10:40:37</td>\n",
       "      <td>Alfabetizado</td>\n",
       "      <td>...</td>\n",
       "      <td>1</td>\n",
       "      <td>1</td>\n",
       "      <td>164.0</td>\n",
       "      <td>90.6</td>\n",
       "      <td>120.0</td>\n",
       "      <td>70.0</td>\n",
       "      <td>0</td>\n",
       "      <td>27</td>\n",
       "      <td>2021-11-05 11:08:17.477</td>\n",
       "      <td>rotineiro</td>\n",
       "    </tr>\n",
       "    <tr>\n",
       "      <th>4</th>\n",
       "      <td>d5262a3c-e5d3-4195-a46b-0acd2533e1d6</td>\n",
       "      <td>male</td>\n",
       "      <td>0</td>\n",
       "      <td>Santíssimo</td>\n",
       "      <td>Branca</td>\n",
       "      <td>Técnico Eletricista</td>\n",
       "      <td>Outra</td>\n",
       "      <td>True</td>\n",
       "      <td>2022-12-13 18:30:45</td>\n",
       "      <td>Médio Completo</td>\n",
       "      <td>...</td>\n",
       "      <td>0</td>\n",
       "      <td>0</td>\n",
       "      <td>154.0</td>\n",
       "      <td>8.5</td>\n",
       "      <td>180.0</td>\n",
       "      <td>80.0</td>\n",
       "      <td>25</td>\n",
       "      <td>0</td>\n",
       "      <td>2020-11-11 00:00:00.000</td>\n",
       "      <td>historico</td>\n",
       "    </tr>\n",
       "  </tbody>\n",
       "</table>\n",
       "<p>5 rows × 35 columns</p>\n",
       "</div>"
      ],
      "text/plain": [
       "                            id_paciente    sexo  obito           bairro  \\\n",
       "0  cd6daa6e-038d-4952-af29-579e62e07f97    male      0  Parada de Lucas   \n",
       "1  ad6cecb2-3a44-49ab-b2f3-6f9ffc2e2ec7    male      0      Cidade Nova   \n",
       "2  54e834e7-e722-4daa-8909-cf917a1247e6    male      0       Santa cruz   \n",
       "3  c6a71e5e-0933-48d1-9d5a-8f448dc37f71  female  False            Bangu   \n",
       "4  d5262a3c-e5d3-4195-a46b-0acd2533e1d6    male      0       Santíssimo   \n",
       "\n",
       "  raca_cor                          ocupacao      religiao luz_eletrica  \\\n",
       "0   Branca                     Não se aplica  Sem religião         True   \n",
       "1    Parda         Assistente Administrativo    Evangélica            1   \n",
       "2    Parda                     Não se aplica      Católica            1   \n",
       "3   Branca  Representante Comercial Autônomo  Sem religião            1   \n",
       "4   Branca               Técnico Eletricista         Outra         True   \n",
       "\n",
       "             data_cadastro            escolaridade  ...  \\\n",
       "0  2021-06-24 00:00:00.000  Fundamental Incompleto  ...   \n",
       "1  2021-01-07 00:00:00.000        Médio Incompleto  ...   \n",
       "2  2021-02-18 00:00:00.000    Fundamental Completo  ...   \n",
       "3      2022-03-09 10:40:37            Alfabetizado  ...   \n",
       "4      2022-12-13 18:30:45          Médio Completo  ...   \n",
       "\n",
       "  familia_beneficiaria_auxilio_brasil crianca_matriculada_creche_pre_escola  \\\n",
       "0                                   0                                     0   \n",
       "1                                   1                                     0   \n",
       "2                                   0                                     0   \n",
       "3                                   1                                     1   \n",
       "4                                   0                                     0   \n",
       "\n",
       "  altura  peso  pressao_sistolica pressao_diastolica  \\\n",
       "0  172.0  52.5              110.0               70.0   \n",
       "1  158.0  76.2              140.0               80.0   \n",
       "2   53.0  82.5              180.0               60.0   \n",
       "3  164.0  90.6              120.0               70.0   \n",
       "4  154.0   8.5              180.0               80.0   \n",
       "\n",
       "  n_atendimentos_atencao_primaria n_atendimentos_hospital  \\\n",
       "0                               8                       9   \n",
       "1                               0                       6   \n",
       "2                               5                       2   \n",
       "3                               0                      27   \n",
       "4                              25                       0   \n",
       "\n",
       "                updated_at       tipo  \n",
       "0  2021-06-01 00:00:00.000  historico  \n",
       "1  2020-06-25 00:00:00.000  historico  \n",
       "2  2020-03-02 00:00:00.000  historico  \n",
       "3  2021-11-05 11:08:17.477  rotineiro  \n",
       "4  2020-11-11 00:00:00.000  historico  \n",
       "\n",
       "[5 rows x 35 columns]"
      ]
     },
     "execution_count": 25,
     "metadata": {},
     "output_type": "execute_result"
    }
   ],
   "source": [
    "df.head()"
   ]
  },
  {
   "cell_type": "markdown",
   "metadata": {},
   "source": [
    "#### Limpeza"
   ]
  },
  {
   "cell_type": "markdown",
   "metadata": {},
   "source": [
    "#### Identificação do Paciente\n",
    "\n",
    "Considerando que o updated_at seja a data de subida no sistema da Secretaria, a data_cadastro como data da coleta de dados pelo agente e a data_atualizacao_cadastro a data de atualização dos dados da coleta pelo agente de saúde. Visto isso e observando os dados temos que existe uma desafagem dos dados em relação ao cadastro e o inicio da subida dos dados nos sistema da Secretaria.\n",
    "\n",
    "  - Contém 99.000 valores únicos em 100.000 registros, indicando que há 1.000 IDs duplicados. Analisando apenas os dados duplicados observa-se um comportamento de criação de cadastro com chave duplicada que teve um erro ao entrar os dados e nas atualizações. Para analise os dados duplicados foram separados para tratamento posterior e entender com mais detalhe os dados. Foi considerado os duplicados com cadastro mais recente.\n",
    "\n",
    "- Erro de preenchimento em colunas de data: data_cadastro,data_atualizacao_cadastro, update_at. Além de ter erros tipo default em 'data_atualizacao_cadastro','updated_at' que foram exckuidos da análiseem torno de \n",
    "\n",
    "- Colunas com dados binários com erros,podendo ter surgindo a longo do tempo devido aformade coleta de dados\n",
    "- Colunas como religião, raca/cor, identidade de genero com valores diferentes da categoria demonstrando algum erro ao concatenar dados.\n",
    "- Colunas com respostas multiescolha tem erro de palavras sinal e que parece tambémter sido na transferencia ou junção de dados atuaisa com dados antigos. As mesmas foram tratadas deforma que cada categoriade respostar se torunou um coluna binária para facilitar a análise\n",
    "\n",
    "- crianca_matriculada_creche_pre_escola, tem erros de preenchimentos quanto a ciranças e adultos receberem verdadeiro para essa variavel. Será excluida da análise."
   ]
  },
  {
   "cell_type": "code",
   "execution_count": 3,
   "metadata": {},
   "outputs": [],
   "source": [
    "colunas_datas = ['data_cadastro','data_atualizacao_cadastro','updated_at']"
   ]
  },
  {
   "cell_type": "code",
   "execution_count": 4,
   "metadata": {
    "collapsed": true
   },
   "outputs": [
    {
     "name": "stderr",
     "output_type": "stream",
     "text": [
      "C:\\ProgramData\\Anaconda3\\lib\\site-packages\\pandas\\core\\frame.py:2963: SettingWithCopyWarning: \n",
      "A value is trying to be set on a copy of a slice from a DataFrame.\n",
      "Try using .loc[row_indexer,col_indexer] = value instead\n",
      "\n",
      "See the caveats in the documentation: https://pandas.pydata.org/pandas-docs/stable/user_guide/indexing.html#returning-a-view-versus-a-copy\n",
      "  self[k1] = value[k2]\n",
      "C:\\Users\\saman\\Documents\\teste_DIT\\src\\clean_data.py:136: SettingWithCopyWarning: \n",
      "A value is trying to be set on a copy of a slice from a DataFrame.\n",
      "Try using .loc[row_indexer,col_indexer] = value instead\n",
      "\n",
      "See the caveats in the documentation: https://pandas.pydata.org/pandas-docs/stable/user_guide/indexing.html#returning-a-view-versus-a-copy\n",
      "  df[coluna] = pd.to_datetime(df[coluna], errors='coerce')\n"
     ]
    },
    {
     "name": "stdout",
     "output_type": "stream",
     "text": [
      "Total de datas com erro '1900-01-01 00:00:00': 0\n",
      "Total de datas com erro '2210-07-15 18:16:26': 0\n"
     ]
    }
   ],
   "source": [
    "df  = tratar_datas(df,colunas_datas)"
   ]
  },
  {
   "cell_type": "code",
   "execution_count": 5,
   "metadata": {},
   "outputs": [
    {
     "data": {
      "text/plain": [
       "{'data_cadastro': (Timestamp('2012-12-26 00:00:00'),\n",
       "  Timestamp('2025-02-10 12:00:06')),\n",
       " 'data_atualizacao_cadastro': (Timestamp('2012-11-29 00:00:00'),\n",
       "  Timestamp('2025-02-10 12:59:06')),\n",
       " 'updated_at': (Timestamp('2014-05-21 00:00:00'),\n",
       "  Timestamp('2025-02-10 11:38:09'))}"
      ]
     },
     "execution_count": 5,
     "metadata": {},
     "output_type": "execute_result"
    }
   ],
   "source": [
    "verificar_datas(df,colunas_datas)"
   ]
  },
  {
   "cell_type": "code",
   "execution_count": 6,
   "metadata": {
    "scrolled": true
   },
   "outputs": [
    {
     "data": {
      "text/html": [
       "<div>\n",
       "<style scoped>\n",
       "    .dataframe tbody tr th:only-of-type {\n",
       "        vertical-align: middle;\n",
       "    }\n",
       "\n",
       "    .dataframe tbody tr th {\n",
       "        vertical-align: top;\n",
       "    }\n",
       "\n",
       "    .dataframe thead th {\n",
       "        text-align: right;\n",
       "    }\n",
       "</style>\n",
       "<table border=\"1\" class=\"dataframe\">\n",
       "  <thead>\n",
       "    <tr style=\"text-align: right;\">\n",
       "      <th></th>\n",
       "      <th>data_cadastro</th>\n",
       "      <th>data_atualizacao_cadastro</th>\n",
       "      <th>updated_at</th>\n",
       "      <th>tipo</th>\n",
       "    </tr>\n",
       "  </thead>\n",
       "  <tbody>\n",
       "    <tr>\n",
       "      <th>count</th>\n",
       "      <td>97934</td>\n",
       "      <td>97934</td>\n",
       "      <td>97934</td>\n",
       "      <td>97934</td>\n",
       "    </tr>\n",
       "    <tr>\n",
       "      <th>unique</th>\n",
       "      <td>68916</td>\n",
       "      <td>76516</td>\n",
       "      <td>55805</td>\n",
       "      <td>2</td>\n",
       "    </tr>\n",
       "    <tr>\n",
       "      <th>top</th>\n",
       "      <td>2017-07-30 00:00:00</td>\n",
       "      <td>2021-03-23 00:00:00</td>\n",
       "      <td>2020-07-28 00:00:00</td>\n",
       "      <td>historico</td>\n",
       "    </tr>\n",
       "    <tr>\n",
       "      <th>freq</th>\n",
       "      <td>106</td>\n",
       "      <td>61</td>\n",
       "      <td>323</td>\n",
       "      <td>90332</td>\n",
       "    </tr>\n",
       "    <tr>\n",
       "      <th>first</th>\n",
       "      <td>2012-12-26 00:00:00</td>\n",
       "      <td>2012-11-29 00:00:00</td>\n",
       "      <td>2014-05-21 00:00:00</td>\n",
       "      <td>NaN</td>\n",
       "    </tr>\n",
       "    <tr>\n",
       "      <th>last</th>\n",
       "      <td>2025-02-10 12:00:06</td>\n",
       "      <td>2025-02-10 12:59:06</td>\n",
       "      <td>2025-02-10 11:38:09</td>\n",
       "      <td>NaN</td>\n",
       "    </tr>\n",
       "  </tbody>\n",
       "</table>\n",
       "</div>"
      ],
      "text/plain": [
       "              data_cadastro data_atualizacao_cadastro           updated_at  \\\n",
       "count                 97934                     97934                97934   \n",
       "unique                68916                     76516                55805   \n",
       "top     2017-07-30 00:00:00       2021-03-23 00:00:00  2020-07-28 00:00:00   \n",
       "freq                    106                        61                  323   \n",
       "first   2012-12-26 00:00:00       2012-11-29 00:00:00  2014-05-21 00:00:00   \n",
       "last    2025-02-10 12:00:06       2025-02-10 12:59:06  2025-02-10 11:38:09   \n",
       "\n",
       "             tipo  \n",
       "count       97934  \n",
       "unique          2  \n",
       "top     historico  \n",
       "freq        90332  \n",
       "first         NaN  \n",
       "last          NaN  "
      ]
     },
     "execution_count": 6,
     "metadata": {},
     "output_type": "execute_result"
    }
   ],
   "source": [
    "comparacao_datas = df[[\"data_cadastro\", \"data_atualizacao_cadastro\", \"updated_at\",'tipo']].describe()\n",
    "comparacao_datas"
   ]
  },
  {
   "cell_type": "code",
   "execution_count": 7,
   "metadata": {},
   "outputs": [
    {
     "name": "stdout",
     "output_type": "stream",
     "text": [
      "\n",
      "Distribuição de tipo:\n",
      "historico    90332\n",
      "rotineiro     7602\n",
      "Name: tipo, dtype: int64\n"
     ]
    }
   ],
   "source": [
    "colunas= ['tipo']\n",
    "distribuicao_variaveis_categoricas(df,colunas)"
   ]
  },
  {
   "cell_type": "code",
   "execution_count": 8,
   "metadata": {},
   "outputs": [],
   "source": [
    "id_duplicados = pd.DataFrame(df['id_paciente'].value_counts())\n",
    "id_duplicados.rename(columns={'id_paciente': 'duplicados'},inplace=True)"
   ]
  },
  {
   "cell_type": "code",
   "execution_count": 10,
   "metadata": {},
   "outputs": [],
   "source": [
    "df = df.merge(id_duplicados ,left_on='id_paciente', right_on=id_duplicados.index, how='left')"
   ]
  },
  {
   "cell_type": "code",
   "execution_count": 11,
   "metadata": {
    "collapsed": true
   },
   "outputs": [
    {
     "name": "stdout",
     "output_type": "stream",
     "text": [
      "<class 'pandas.core.frame.DataFrame'>\n",
      "Int64Index: 1900 entries, 15 to 97880\n",
      "Data columns (total 37 columns):\n",
      " #   Column                                 Non-Null Count  Dtype         \n",
      "---  ------                                 --------------  -----         \n",
      " 0   id_paciente                            1900 non-null   object        \n",
      " 1   sexo                                   1900 non-null   object        \n",
      " 2   obito                                  1900 non-null   object        \n",
      " 3   bairro                                 1900 non-null   object        \n",
      " 4   raca_cor                               1900 non-null   object        \n",
      " 5   ocupacao                               1900 non-null   object        \n",
      " 6   religiao                               1900 non-null   object        \n",
      " 7   luz_eletrica                           1900 non-null   object        \n",
      " 8   data_cadastro                          1900 non-null   datetime64[ns]\n",
      " 9   escolaridade                           1900 non-null   object        \n",
      " 10  nacionalidade                          1900 non-null   object        \n",
      " 11  renda_familiar                         1900 non-null   object        \n",
      " 12  data_nascimento                        1900 non-null   object        \n",
      " 13  em_situacao_de_rua                     1900 non-null   object        \n",
      " 14  frequenta_escola                       1900 non-null   int64         \n",
      " 15  meios_transporte                       1900 non-null   object        \n",
      " 16  doencas_condicoes                      1900 non-null   object        \n",
      " 17  identidade_genero                      1878 non-null   object        \n",
      " 18  meios_comunicacao                      1900 non-null   object        \n",
      " 19  orientacao_sexual                      1900 non-null   object        \n",
      " 20  possui_plano_saude                     1900 non-null   object        \n",
      " 21  em_caso_doenca_procura                 1900 non-null   object        \n",
      " 22  situacao_profissional                  1900 non-null   object        \n",
      " 23  vulnerabilidade_social                 1900 non-null   object        \n",
      " 24  data_atualizacao_cadastro              1900 non-null   datetime64[ns]\n",
      " 25  familia_beneficiaria_auxilio_brasil    1900 non-null   object        \n",
      " 26  crianca_matriculada_creche_pre_escola  1900 non-null   object        \n",
      " 27  altura                                 1899 non-null   float64       \n",
      " 28  peso                                   1898 non-null   float64       \n",
      " 29  pressao_sistolica                      1898 non-null   float64       \n",
      " 30  pressao_diastolica                     1899 non-null   float64       \n",
      " 31  n_atendimentos_atencao_primaria        1900 non-null   int64         \n",
      " 32  n_atendimentos_hospital                1900 non-null   int64         \n",
      " 33  updated_at                             1900 non-null   datetime64[ns]\n",
      " 34  tipo                                   1900 non-null   object        \n",
      " 35  zeros                                  1732 non-null   object        \n",
      " 36  duplicados                             1900 non-null   int64         \n",
      "dtypes: datetime64[ns](3), float64(4), int64(4), object(26)\n",
      "memory usage: 564.1+ KB\n"
     ]
    }
   ],
   "source": [
    "id_duplicados = pd.DataFrame(df[df['duplicados'] > 1]) \n",
    "id_duplicados.info()"
   ]
  },
  {
   "cell_type": "code",
   "execution_count": 12,
   "metadata": {
    "collapsed": true
   },
   "outputs": [
    {
     "data": {
      "text/html": [
       "<div>\n",
       "<style scoped>\n",
       "    .dataframe tbody tr th:only-of-type {\n",
       "        vertical-align: middle;\n",
       "    }\n",
       "\n",
       "    .dataframe tbody tr th {\n",
       "        vertical-align: top;\n",
       "    }\n",
       "\n",
       "    .dataframe thead th {\n",
       "        text-align: right;\n",
       "    }\n",
       "</style>\n",
       "<table border=\"1\" class=\"dataframe\">\n",
       "  <thead>\n",
       "    <tr style=\"text-align: right;\">\n",
       "      <th></th>\n",
       "      <th>data_cadastro</th>\n",
       "      <th>data_atualizacao_cadastro</th>\n",
       "      <th>updated_at</th>\n",
       "      <th>tipo</th>\n",
       "    </tr>\n",
       "  </thead>\n",
       "  <tbody>\n",
       "    <tr>\n",
       "      <th>count</th>\n",
       "      <td>1900</td>\n",
       "      <td>1900</td>\n",
       "      <td>1900</td>\n",
       "      <td>1900</td>\n",
       "    </tr>\n",
       "    <tr>\n",
       "      <th>unique</th>\n",
       "      <td>1704</td>\n",
       "      <td>1839</td>\n",
       "      <td>1630</td>\n",
       "      <td>2</td>\n",
       "    </tr>\n",
       "    <tr>\n",
       "      <th>top</th>\n",
       "      <td>2021-04-13 00:00:00</td>\n",
       "      <td>2021-07-27 00:00:00</td>\n",
       "      <td>2020-07-23 00:00:00</td>\n",
       "      <td>historico</td>\n",
       "    </tr>\n",
       "    <tr>\n",
       "      <th>freq</th>\n",
       "      <td>5</td>\n",
       "      <td>4</td>\n",
       "      <td>10</td>\n",
       "      <td>1756</td>\n",
       "    </tr>\n",
       "    <tr>\n",
       "      <th>first</th>\n",
       "      <td>2015-12-11 00:00:00</td>\n",
       "      <td>2016-07-27 12:00:00</td>\n",
       "      <td>2016-12-22 00:00:00</td>\n",
       "      <td>NaN</td>\n",
       "    </tr>\n",
       "    <tr>\n",
       "      <th>last</th>\n",
       "      <td>2025-02-07 02:24:54</td>\n",
       "      <td>2025-02-03 04:19:11</td>\n",
       "      <td>2025-02-04 01:13:55</td>\n",
       "      <td>NaN</td>\n",
       "    </tr>\n",
       "  </tbody>\n",
       "</table>\n",
       "</div>"
      ],
      "text/plain": [
       "              data_cadastro data_atualizacao_cadastro           updated_at  \\\n",
       "count                  1900                      1900                 1900   \n",
       "unique                 1704                      1839                 1630   \n",
       "top     2021-04-13 00:00:00       2021-07-27 00:00:00  2020-07-23 00:00:00   \n",
       "freq                      5                         4                   10   \n",
       "first   2015-12-11 00:00:00       2016-07-27 12:00:00  2016-12-22 00:00:00   \n",
       "last    2025-02-07 02:24:54       2025-02-03 04:19:11  2025-02-04 01:13:55   \n",
       "\n",
       "             tipo  \n",
       "count        1900  \n",
       "unique          2  \n",
       "top     historico  \n",
       "freq         1756  \n",
       "first         NaN  \n",
       "last          NaN  "
      ]
     },
     "execution_count": 12,
     "metadata": {},
     "output_type": "execute_result"
    }
   ],
   "source": [
    "comparacao_datas =id_duplicados[[\"data_cadastro\", \"data_atualizacao_cadastro\", \"updated_at\",'tipo']].describe()\n",
    "comparacao_datas"
   ]
  },
  {
   "cell_type": "code",
   "execution_count": 77,
   "metadata": {},
   "outputs": [
    {
     "data": {
      "text/plain": [
       "b7d73ea7-2725-4d80-bf54-c6efc9bd4708    1\n",
       "d7ffca30-d604-468f-9eb2-73eda2318e4b    1\n",
       "02aac8bf-fbe8-4cad-bd76-6e3058743acc    1\n",
       "05d72dc2-de0a-4add-9588-8d3387f148b7    1\n",
       "60a2b27f-4062-4217-820e-1c565cd4ed8d    1\n",
       "                                       ..\n",
       "77ed764d-6cbf-4ae0-9c61-0950a0b7c400    1\n",
       "aff7bcc9-e42e-40e7-b248-4d81bcc508f8    1\n",
       "8d1b4e06-dcbe-4942-b562-2e69195dfe37    1\n",
       "e646e118-b8b5-42cf-937f-00e4abe90f77    1\n",
       "94d2d564-066c-41f3-9197-994fc94fbe36    1\n",
       "Name: id_paciente, Length: 96981, dtype: int64"
      ]
     },
     "execution_count": 77,
     "metadata": {},
     "output_type": "execute_result"
    }
   ],
   "source": [
    "# Ordenar os dados pela coluna 'id_paciente' e 'data_cadastro' para obter os registros mais recentes\n",
    "df_sorted = df.sort_values(by=['id_paciente', 'data_cadastro'], ascending=[True, False])\n",
    "# Manter apenas os registros mais recentes para cada id_paciente com base na data_cadastro\n",
    "df_limpo = df_sorted .drop_duplicates(subset=['id_paciente'], keep='first')\n",
    "df_limpo['id_paciente'].value_counts()"
   ]
  },
  {
   "cell_type": "markdown",
   "metadata": {},
   "source": [
    "Tratamento das variaveis"
   ]
  },
  {
   "cell_type": "code",
   "execution_count": 78,
   "metadata": {},
   "outputs": [],
   "source": [
    "categorias = ['Branca', 'Parda', 'Preta', 'Amarela','Indígena']\n",
    "df_limpo = padronizar_dados(df_limpo, 'raca_cor',categorias)"
   ]
  },
  {
   "cell_type": "code",
   "execution_count": 82,
   "metadata": {},
   "outputs": [],
   "source": [
    "df_limpo['identidade_genero'].fillna('0',inplace=True)"
   ]
  },
  {
   "cell_type": "code",
   "execution_count": 85,
   "metadata": {},
   "outputs": [
    {
     "data": {
      "text/plain": [
       "array(['Não', 'Heterossexual', 'Cis', 'Mulher transexual',\n",
       "       'Homem transexual', 'Outro', 'Travesti',\n",
       "       'Homossexual (gay / lésbica)', 'Bissexual'], dtype=object)"
      ]
     },
     "execution_count": 85,
     "metadata": {},
     "output_type": "execute_result"
    }
   ],
   "source": [
    "df_limpo['identidade_genero'].unique()"
   ]
  },
  {
   "cell_type": "code",
   "execution_count": 60,
   "metadata": {
    "collapsed": true
   },
   "outputs": [
    {
     "name": "stderr",
     "output_type": "stream",
     "text": [
      "C:\\Users\\saman\\Documents\\teste_DIT\\src\\clean_data.py:154: SettingWithCopyWarning: \n",
      "A value is trying to be set on a copy of a slice from a DataFrame.\n",
      "Try using .loc[row_indexer,col_indexer] = value instead\n",
      "\n",
      "See the caveats in the documentation: https://pandas.pydata.org/pandas-docs/stable/user_guide/indexing.html#returning-a-view-versus-a-copy\n",
      "  df[coluna_data_nascimento] = pd.to_datetime(df[coluna_data_nascimento], format=formato, errors='coerce')\n"
     ]
    }
   ],
   "source": [
    "df_limpo = criar_faixa_etaria(df_limpo,'data_nascimento')"
   ]
  },
  {
   "cell_type": "code",
   "execution_count": 84,
   "metadata": {},
   "outputs": [],
   "source": [
    "categoria = ['Cis', 'Outro', 'Homem transexual', 'Mulher transexual',\n",
    "       'Heterossexual', 'Homossexual (gay / lésbica)', 'Bissexual',\n",
    "       'Travesti']\n",
    "df_limpo = padronizar_dados(df_limpo, 'identidade_genero',categoria)"
   ]
  },
  {
   "cell_type": "code",
   "execution_count": 86,
   "metadata": {
    "collapsed": true
   },
   "outputs": [
    {
     "data": {
      "text/plain": [
       "Não                            68686\n",
       "Cis                            20359\n",
       "Mulher transexual               3683\n",
       "Homem transexual                1880\n",
       "Outro                           1298\n",
       "Heterossexual                    993\n",
       "Homossexual (gay / lésbica)       43\n",
       "Travesti                          33\n",
       "Bissexual                          6\n",
       "Name: identidade_genero, dtype: int64"
      ]
     },
     "execution_count": 86,
     "metadata": {},
     "output_type": "execute_result"
    }
   ],
   "source": [
    "df_limpo['identidade_genero'].value_counts()"
   ]
  },
  {
   "cell_type": "code",
   "execution_count": 87,
   "metadata": {},
   "outputs": [],
   "source": [
    "categoria =[ '3 Salários Mínimos', '2 Salários Mínimos', '1 Salário Mínimo',\n",
    "       '1/2 Salário Mínimo', '4 Salários Mínimos',\n",
    "       'Mais de 4 Salários Mínimos', '1/4 Salário Mínimo']\n",
    "\n",
    "df_limpo = padronizar_dados(df_limpo, 'renda_familiar',categoria)"
   ]
  },
  {
   "cell_type": "code",
   "execution_count": 88,
   "metadata": {},
   "outputs": [],
   "source": [
    "categoria = ['Desempregado', 'Emprego Formal',\n",
    "       'Autônomo com previdência social', 'Não se aplica',\n",
    "       'Emprego Informal', 'Pensionista / Aposentado', 'Autônomo',\n",
    "       'Outro', 'Não trabalha', 'Empregador',\n",
    "       'Autônomo sem previdência social']\n",
    "df_limpo = padronizar_dados(df_limpo, 'situacao_profissional',categoria)"
   ]
  },
  {
   "cell_type": "code",
   "execution_count": 112,
   "metadata": {
    "collapsed": true
   },
   "outputs": [
    {
     "name": "stderr",
     "output_type": "stream",
     "text": [
      "C:\\Users\\saman\\Documents\\teste_DIT\\src\\clean_data.py:154: SettingWithCopyWarning: \n",
      "A value is trying to be set on a copy of a slice from a DataFrame.\n",
      "Try using .loc[row_indexer,col_indexer] = value instead\n",
      "\n",
      "See the caveats in the documentation: https://pandas.pydata.org/pandas-docs/stable/user_guide/indexing.html#returning-a-view-versus-a-copy\n",
      "  df[coluna_data_nascimento] = pd.to_datetime(df[coluna_data_nascimento], format=formato, errors='coerce')\n"
     ]
    }
   ],
   "source": [
    "df_limpo = pd.DataFrame(criar_faixa_etaria(df_limpo, 'data_nascimento'))"
   ]
  },
  {
   "cell_type": "code",
   "execution_count": 89,
   "metadata": {},
   "outputs": [],
   "source": [
    "categoria = ['Católica', 'Evangélica', 'Sem religião', 'Espírita', 'Outra',\n",
    "       'Religião de matriz africana','Judaísmo', 'Budismo',\n",
    "        'Islamismo']\n",
    "df_limpo = padronizar_dados(df_limpo, 'religiao',categoria)"
   ]
  },
  {
   "cell_type": "code",
   "execution_count": 90,
   "metadata": {
    "collapsed": true
   },
   "outputs": [
    {
     "name": "stderr",
     "output_type": "stream",
     "text": [
      "C:\\Users\\saman\\Documents\\teste_DIT\\src\\clean_data.py:125: SettingWithCopyWarning: \n",
      "A value is trying to be set on a copy of a slice from a DataFrame.\n",
      "Try using .loc[row_indexer,col_indexer] = value instead\n",
      "\n",
      "See the caveats in the documentation: https://pandas.pydata.org/pandas-docs/stable/user_guide/indexing.html#returning-a-view-versus-a-copy\n",
      "  df[coluna] = df[coluna].astype(str).str.strip().map(lambda x: mapeamento.get(x, x)).astype(int)\n"
     ]
    }
   ],
   "source": [
    "df_limpo = padronizar_binarios(df_limpo,'possui_plano_saude')\n",
    "df_limpo = padronizar_binarios(df_limpo,'em_situacao_de_rua')\n",
    "df_limpo = padronizar_binarios(df_limpo,'luz_eletrica')\n",
    "df_limpo = padronizar_binarios(df_limpo,'vulnerabilidade_social')\n",
    "df_limpo = padronizar_binarios(df_limpo,'obito')\n",
    "df_limpo = padronizar_binarios(df_limpo,'familia_beneficiaria_auxilio_brasil')\n",
    "df_limpo = padronizar_binarios(df_limpo,'crianca_matriculada_creche_pre_escola')"
   ]
  },
  {
   "cell_type": "code",
   "execution_count": 91,
   "metadata": {
    "collapsed": true
   },
   "outputs": [
    {
     "name": "stderr",
     "output_type": "stream",
     "text": [
      "C:\\Users\\saman\\Documents\\teste_DIT\\src\\clean_data.py:84: SettingWithCopyWarning: \n",
      "A value is trying to be set on a copy of a slice from a DataFrame.\n",
      "Try using .loc[row_indexer,col_indexer] = value instead\n",
      "\n",
      "See the caveats in the documentation: https://pandas.pydata.org/pandas-docs/stable/user_guide/indexing.html#returning-a-view-versus-a-copy\n",
      "  df[coluna] = df[coluna].apply(limpar_resposta)\n",
      "C:\\Users\\saman\\Documents\\teste_DIT\\src\\clean_data.py:88: SettingWithCopyWarning: \n",
      "A value is trying to be set on a copy of a slice from a DataFrame.\n",
      "Try using .loc[row_indexer,col_indexer] = value instead\n",
      "\n",
      "See the caveats in the documentation: https://pandas.pydata.org/pandas-docs/stable/user_guide/indexing.html#returning-a-view-versus-a-copy\n",
      "  df[opcao] = df[coluna].apply(lambda x: 1 if opcao in x else 0)\n"
     ]
    },
    {
     "data": {
      "text/html": [
       "<div>\n",
       "<style scoped>\n",
       "    .dataframe tbody tr th:only-of-type {\n",
       "        vertical-align: middle;\n",
       "    }\n",
       "\n",
       "    .dataframe tbody tr th {\n",
       "        vertical-align: top;\n",
       "    }\n",
       "\n",
       "    .dataframe thead th {\n",
       "        text-align: right;\n",
       "    }\n",
       "</style>\n",
       "<table border=\"1\" class=\"dataframe\">\n",
       "  <thead>\n",
       "    <tr style=\"text-align: right;\">\n",
       "      <th></th>\n",
       "      <th>id_paciente</th>\n",
       "      <th>sexo</th>\n",
       "      <th>obito</th>\n",
       "      <th>bairro</th>\n",
       "      <th>raca_cor</th>\n",
       "      <th>ocupacao</th>\n",
       "      <th>religiao</th>\n",
       "      <th>luz_eletrica</th>\n",
       "      <th>data_cadastro</th>\n",
       "      <th>escolaridade</th>\n",
       "      <th>...</th>\n",
       "      <th>Diabetes</th>\n",
       "      <th>Tabagismo</th>\n",
       "      <th>Tentativa de Suicídio</th>\n",
       "      <th>Gestante</th>\n",
       "      <th>Farmácia</th>\n",
       "      <th>Rede Privada</th>\n",
       "      <th>Hospital Público</th>\n",
       "      <th>Auxílio Espiritual</th>\n",
       "      <th>Unidade de Saúde</th>\n",
       "      <th>1 Salário Mínimo</th>\n",
       "    </tr>\n",
       "  </thead>\n",
       "  <tbody>\n",
       "    <tr>\n",
       "      <th>6371</th>\n",
       "      <td>0000531b-16b4-4080-9466-61d25d223b7b</td>\n",
       "      <td>male</td>\n",
       "      <td>0</td>\n",
       "      <td>Cachambi</td>\n",
       "      <td>Parda</td>\n",
       "      <td>Não se aplica</td>\n",
       "      <td>Católica</td>\n",
       "      <td>1</td>\n",
       "      <td>2022-08-02 17:25:32</td>\n",
       "      <td>Médio Completo</td>\n",
       "      <td>...</td>\n",
       "      <td>0</td>\n",
       "      <td>0</td>\n",
       "      <td>0</td>\n",
       "      <td>0</td>\n",
       "      <td>0</td>\n",
       "      <td>0</td>\n",
       "      <td>1</td>\n",
       "      <td>0</td>\n",
       "      <td>0</td>\n",
       "      <td>0</td>\n",
       "    </tr>\n",
       "    <tr>\n",
       "      <th>39013</th>\n",
       "      <td>0000ce2e-0fe7-487c-bcc4-df816d4f341c</td>\n",
       "      <td>female</td>\n",
       "      <td>0</td>\n",
       "      <td>Campo Grande</td>\n",
       "      <td>Branca</td>\n",
       "      <td>Manicure</td>\n",
       "      <td>Evangélica</td>\n",
       "      <td>1</td>\n",
       "      <td>2024-04-02 23:03:48</td>\n",
       "      <td>Médio Completo</td>\n",
       "      <td>...</td>\n",
       "      <td>0</td>\n",
       "      <td>0</td>\n",
       "      <td>0</td>\n",
       "      <td>0</td>\n",
       "      <td>0</td>\n",
       "      <td>0</td>\n",
       "      <td>1</td>\n",
       "      <td>0</td>\n",
       "      <td>1</td>\n",
       "      <td>0</td>\n",
       "    </tr>\n",
       "    <tr>\n",
       "      <th>36941</th>\n",
       "      <td>0000fc1a-ff20-4b42-be29-0a11acf699f1</td>\n",
       "      <td>female</td>\n",
       "      <td>0</td>\n",
       "      <td>Santa Rosa</td>\n",
       "      <td>Parda</td>\n",
       "      <td>Vigilante</td>\n",
       "      <td>Sem religião</td>\n",
       "      <td>1</td>\n",
       "      <td>2022-05-22 10:29:31</td>\n",
       "      <td>Médio Completo</td>\n",
       "      <td>...</td>\n",
       "      <td>0</td>\n",
       "      <td>0</td>\n",
       "      <td>0</td>\n",
       "      <td>0</td>\n",
       "      <td>0</td>\n",
       "      <td>1</td>\n",
       "      <td>1</td>\n",
       "      <td>0</td>\n",
       "      <td>1</td>\n",
       "      <td>0</td>\n",
       "    </tr>\n",
       "    <tr>\n",
       "      <th>84651</th>\n",
       "      <td>0001721d-118a-4549-9a08-4405e9b7d21d</td>\n",
       "      <td>male</td>\n",
       "      <td>0</td>\n",
       "      <td>Copacabana</td>\n",
       "      <td>Parda</td>\n",
       "      <td>Professor de Disciplinas Pedagógicas No Ensino...</td>\n",
       "      <td>Evangélica</td>\n",
       "      <td>1</td>\n",
       "      <td>2023-01-17 12:10:11</td>\n",
       "      <td>Alfabetizado</td>\n",
       "      <td>...</td>\n",
       "      <td>0</td>\n",
       "      <td>0</td>\n",
       "      <td>0</td>\n",
       "      <td>0</td>\n",
       "      <td>0</td>\n",
       "      <td>0</td>\n",
       "      <td>1</td>\n",
       "      <td>0</td>\n",
       "      <td>1</td>\n",
       "      <td>0</td>\n",
       "    </tr>\n",
       "    <tr>\n",
       "      <th>57912</th>\n",
       "      <td>00029b27-c888-458a-a867-a534d9d386da</td>\n",
       "      <td>female</td>\n",
       "      <td>0</td>\n",
       "      <td>Realengo</td>\n",
       "      <td>Preta</td>\n",
       "      <td>Não se aplica</td>\n",
       "      <td>Espírita</td>\n",
       "      <td>1</td>\n",
       "      <td>2023-07-15 14:19:55</td>\n",
       "      <td>Não sabe ler/escrever</td>\n",
       "      <td>...</td>\n",
       "      <td>0</td>\n",
       "      <td>0</td>\n",
       "      <td>0</td>\n",
       "      <td>0</td>\n",
       "      <td>0</td>\n",
       "      <td>0</td>\n",
       "      <td>1</td>\n",
       "      <td>0</td>\n",
       "      <td>1</td>\n",
       "      <td>0</td>\n",
       "    </tr>\n",
       "    <tr>\n",
       "      <th>...</th>\n",
       "      <td>...</td>\n",
       "      <td>...</td>\n",
       "      <td>...</td>\n",
       "      <td>...</td>\n",
       "      <td>...</td>\n",
       "      <td>...</td>\n",
       "      <td>...</td>\n",
       "      <td>...</td>\n",
       "      <td>...</td>\n",
       "      <td>...</td>\n",
       "      <td>...</td>\n",
       "      <td>...</td>\n",
       "      <td>...</td>\n",
       "      <td>...</td>\n",
       "      <td>...</td>\n",
       "      <td>...</td>\n",
       "      <td>...</td>\n",
       "      <td>...</td>\n",
       "      <td>...</td>\n",
       "      <td>...</td>\n",
       "      <td>...</td>\n",
       "    </tr>\n",
       "    <tr>\n",
       "      <th>54757</th>\n",
       "      <td>fffed6a2-6bcb-4f22-8624-d786024dcdc6</td>\n",
       "      <td>female</td>\n",
       "      <td>0</td>\n",
       "      <td>Colégio</td>\n",
       "      <td>Parda</td>\n",
       "      <td>Não se aplica</td>\n",
       "      <td>Outra</td>\n",
       "      <td>1</td>\n",
       "      <td>2021-07-15 11:50:34</td>\n",
       "      <td>Médio Completo</td>\n",
       "      <td>...</td>\n",
       "      <td>0</td>\n",
       "      <td>0</td>\n",
       "      <td>0</td>\n",
       "      <td>0</td>\n",
       "      <td>0</td>\n",
       "      <td>0</td>\n",
       "      <td>1</td>\n",
       "      <td>0</td>\n",
       "      <td>0</td>\n",
       "      <td>0</td>\n",
       "    </tr>\n",
       "    <tr>\n",
       "      <th>13435</th>\n",
       "      <td>fffee3bb-4845-4488-9dbf-9f8a89618c1b</td>\n",
       "      <td>female</td>\n",
       "      <td>0</td>\n",
       "      <td>Vigário Geral</td>\n",
       "      <td>Parda</td>\n",
       "      <td>Técnico Em Eletromecânica</td>\n",
       "      <td>Outra</td>\n",
       "      <td>1</td>\n",
       "      <td>2021-06-15 00:00:00</td>\n",
       "      <td>Não sabe ler/escrever</td>\n",
       "      <td>...</td>\n",
       "      <td>1</td>\n",
       "      <td>0</td>\n",
       "      <td>0</td>\n",
       "      <td>0</td>\n",
       "      <td>0</td>\n",
       "      <td>0</td>\n",
       "      <td>1</td>\n",
       "      <td>0</td>\n",
       "      <td>1</td>\n",
       "      <td>0</td>\n",
       "    </tr>\n",
       "    <tr>\n",
       "      <th>69571</th>\n",
       "      <td>fffee3f5-05e9-4196-afbd-9f0faf051da0</td>\n",
       "      <td>female</td>\n",
       "      <td>0</td>\n",
       "      <td>Santa cruz</td>\n",
       "      <td>Parda</td>\n",
       "      <td>Tecnólogo em secretariado escolar</td>\n",
       "      <td>Outra</td>\n",
       "      <td>1</td>\n",
       "      <td>2022-08-23 19:49:26</td>\n",
       "      <td>Fundamental Incompleto</td>\n",
       "      <td>...</td>\n",
       "      <td>0</td>\n",
       "      <td>0</td>\n",
       "      <td>0</td>\n",
       "      <td>0</td>\n",
       "      <td>0</td>\n",
       "      <td>0</td>\n",
       "      <td>1</td>\n",
       "      <td>0</td>\n",
       "      <td>0</td>\n",
       "      <td>0</td>\n",
       "    </tr>\n",
       "    <tr>\n",
       "      <th>87561</th>\n",
       "      <td>ffff006a-b49c-40d2-96ec-5d3ff8a08aef</td>\n",
       "      <td>female</td>\n",
       "      <td>0</td>\n",
       "      <td>Senador Camará</td>\n",
       "      <td>Parda</td>\n",
       "      <td>Impressor (serigrafia)</td>\n",
       "      <td>Evangélica</td>\n",
       "      <td>1</td>\n",
       "      <td>2021-05-02 10:05:06</td>\n",
       "      <td>Fundamental Incompleto</td>\n",
       "      <td>...</td>\n",
       "      <td>0</td>\n",
       "      <td>0</td>\n",
       "      <td>0</td>\n",
       "      <td>0</td>\n",
       "      <td>0</td>\n",
       "      <td>0</td>\n",
       "      <td>0</td>\n",
       "      <td>0</td>\n",
       "      <td>0</td>\n",
       "      <td>0</td>\n",
       "    </tr>\n",
       "    <tr>\n",
       "      <th>31948</th>\n",
       "      <td>ffff7290-9b18-45de-8298-0be678218692</td>\n",
       "      <td>female</td>\n",
       "      <td>0</td>\n",
       "      <td>Glória</td>\n",
       "      <td>Preta</td>\n",
       "      <td>Não se aplica</td>\n",
       "      <td>Evangélica</td>\n",
       "      <td>1</td>\n",
       "      <td>2021-02-23 00:00:00</td>\n",
       "      <td>Superior completo</td>\n",
       "      <td>...</td>\n",
       "      <td>1</td>\n",
       "      <td>0</td>\n",
       "      <td>0</td>\n",
       "      <td>0</td>\n",
       "      <td>0</td>\n",
       "      <td>0</td>\n",
       "      <td>0</td>\n",
       "      <td>0</td>\n",
       "      <td>1</td>\n",
       "      <td>0</td>\n",
       "    </tr>\n",
       "  </tbody>\n",
       "</table>\n",
       "<p>96981 rows × 88 columns</p>\n",
       "</div>"
      ],
      "text/plain": [
       "                                id_paciente    sexo  obito          bairro  \\\n",
       "6371   0000531b-16b4-4080-9466-61d25d223b7b    male      0        Cachambi   \n",
       "39013  0000ce2e-0fe7-487c-bcc4-df816d4f341c  female      0    Campo Grande   \n",
       "36941  0000fc1a-ff20-4b42-be29-0a11acf699f1  female      0      Santa Rosa   \n",
       "84651  0001721d-118a-4549-9a08-4405e9b7d21d    male      0      Copacabana   \n",
       "57912  00029b27-c888-458a-a867-a534d9d386da  female      0        Realengo   \n",
       "...                                     ...     ...    ...             ...   \n",
       "54757  fffed6a2-6bcb-4f22-8624-d786024dcdc6  female      0         Colégio   \n",
       "13435  fffee3bb-4845-4488-9dbf-9f8a89618c1b  female      0   Vigário Geral   \n",
       "69571  fffee3f5-05e9-4196-afbd-9f0faf051da0  female      0      Santa cruz   \n",
       "87561  ffff006a-b49c-40d2-96ec-5d3ff8a08aef  female      0  Senador Camará   \n",
       "31948  ffff7290-9b18-45de-8298-0be678218692  female      0          Glória   \n",
       "\n",
       "      raca_cor                                           ocupacao  \\\n",
       "6371     Parda                                      Não se aplica   \n",
       "39013   Branca                                           Manicure   \n",
       "36941    Parda                                          Vigilante   \n",
       "84651    Parda  Professor de Disciplinas Pedagógicas No Ensino...   \n",
       "57912    Preta                                      Não se aplica   \n",
       "...        ...                                                ...   \n",
       "54757    Parda                                      Não se aplica   \n",
       "13435    Parda                          Técnico Em Eletromecânica   \n",
       "69571    Parda                  Tecnólogo em secretariado escolar   \n",
       "87561    Parda                             Impressor (serigrafia)   \n",
       "31948    Preta                                      Não se aplica   \n",
       "\n",
       "           religiao  luz_eletrica       data_cadastro            escolaridade  \\\n",
       "6371       Católica             1 2022-08-02 17:25:32          Médio Completo   \n",
       "39013    Evangélica             1 2024-04-02 23:03:48          Médio Completo   \n",
       "36941  Sem religião             1 2022-05-22 10:29:31          Médio Completo   \n",
       "84651    Evangélica             1 2023-01-17 12:10:11            Alfabetizado   \n",
       "57912      Espírita             1 2023-07-15 14:19:55   Não sabe ler/escrever   \n",
       "...             ...           ...                 ...                     ...   \n",
       "54757         Outra             1 2021-07-15 11:50:34          Médio Completo   \n",
       "13435         Outra             1 2021-06-15 00:00:00   Não sabe ler/escrever   \n",
       "69571         Outra             1 2022-08-23 19:49:26  Fundamental Incompleto   \n",
       "87561    Evangélica             1 2021-05-02 10:05:06  Fundamental Incompleto   \n",
       "31948    Evangélica             1 2021-02-23 00:00:00       Superior completo   \n",
       "\n",
       "       ... Diabetes Tabagismo Tentativa de Suicídio  Gestante  Farmácia  \\\n",
       "6371   ...        0         0                     0         0         0   \n",
       "39013  ...        0         0                     0         0         0   \n",
       "36941  ...        0         0                     0         0         0   \n",
       "84651  ...        0         0                     0         0         0   \n",
       "57912  ...        0         0                     0         0         0   \n",
       "...    ...      ...       ...                   ...       ...       ...   \n",
       "54757  ...        0         0                     0         0         0   \n",
       "13435  ...        1         0                     0         0         0   \n",
       "69571  ...        0         0                     0         0         0   \n",
       "87561  ...        0         0                     0         0         0   \n",
       "31948  ...        1         0                     0         0         0   \n",
       "\n",
       "      Rede Privada Hospital Público Auxílio Espiritual Unidade de Saúde  \\\n",
       "6371             0                1                  0                0   \n",
       "39013            0                1                  0                1   \n",
       "36941            1                1                  0                1   \n",
       "84651            0                1                  0                1   \n",
       "57912            0                1                  0                1   \n",
       "...            ...              ...                ...              ...   \n",
       "54757            0                1                  0                0   \n",
       "13435            0                1                  0                1   \n",
       "69571            0                1                  0                0   \n",
       "87561            0                0                  0                0   \n",
       "31948            0                0                  0                1   \n",
       "\n",
       "      1 Salário Mínimo  \n",
       "6371                 0  \n",
       "39013                0  \n",
       "36941                0  \n",
       "84651                0  \n",
       "57912                0  \n",
       "...                ...  \n",
       "54757                0  \n",
       "13435                0  \n",
       "69571                0  \n",
       "87561                0  \n",
       "31948                0  \n",
       "\n",
       "[96981 rows x 88 columns]"
      ]
     },
     "execution_count": 91,
     "metadata": {},
     "output_type": "execute_result"
    }
   ],
   "source": [
    "tratar_respostas_multiescolha(df_limpo,  'meios_transporte')\n",
    "tratar_respostas_multiescolha(df_limpo,  'meios_comunicacao')\n",
    "tratar_respostas_multiescolha(df_limpo,  'doencas_condicoes')\n",
    "tratar_respostas_multiescolha(df_limpo,  'em_caso_doenca_procura')\n"
   ]
  },
  {
   "cell_type": "code",
   "execution_count": 159,
   "metadata": {},
   "outputs": [],
   "source": [
    "df_limpo.drop(['Manhã','zeros','1 Salário Mínimo', '3 Salários Mínimos','Mais de 4 Salários Mínimos','4 Salários Mínimos'],axis=1,inplace=True)"
   ]
  },
  {
   "cell_type": "markdown",
   "metadata": {},
   "source": [
    " ### Analise"
   ]
  },
  {
   "cell_type": "markdown",
   "metadata": {},
   "source": [
    "#### Identificação Paciente"
   ]
  },
  {
   "cell_type": "code",
   "execution_count": 95,
   "metadata": {},
   "outputs": [],
   "source": [
    "id_paciente = pd.DataFrame(df_limpo, columns=['id_paciente','data_cadastro','data_atualizacao_cadastro','updated_at', 'tipo'])"
   ]
  },
  {
   "cell_type": "code",
   "execution_count": 96,
   "metadata": {},
   "outputs": [],
   "source": [
    "colunas = ['id_paciente','tipo']"
   ]
  },
  {
   "cell_type": "code",
   "execution_count": 97,
   "metadata": {
    "collapsed": true
   },
   "outputs": [
    {
     "name": "stdout",
     "output_type": "stream",
     "text": [
      "\n",
      "Distribuição de id_paciente:\n",
      "b7d73ea7-2725-4d80-bf54-c6efc9bd4708    1\n",
      "d7ffca30-d604-468f-9eb2-73eda2318e4b    1\n",
      "02aac8bf-fbe8-4cad-bd76-6e3058743acc    1\n",
      "05d72dc2-de0a-4add-9588-8d3387f148b7    1\n",
      "60a2b27f-4062-4217-820e-1c565cd4ed8d    1\n",
      "                                       ..\n",
      "77ed764d-6cbf-4ae0-9c61-0950a0b7c400    1\n",
      "aff7bcc9-e42e-40e7-b248-4d81bcc508f8    1\n",
      "8d1b4e06-dcbe-4942-b562-2e69195dfe37    1\n",
      "e646e118-b8b5-42cf-937f-00e4abe90f77    1\n",
      "94d2d564-066c-41f3-9197-994fc94fbe36    1\n",
      "Name: id_paciente, Length: 96981, dtype: int64\n",
      "\n",
      "Distribuição de tipo:\n",
      "historico    89448\n",
      "rotineiro     7533\n",
      "Name: tipo, dtype: int64\n"
     ]
    }
   ],
   "source": [
    "distribuicao_variaveis_categoricas(id_paciente,colunas,plot=False)"
   ]
  },
  {
   "cell_type": "code",
   "execution_count": 105,
   "metadata": {},
   "outputs": [],
   "source": [
    "id_paciente['Mes_cadastro'] = id_paciente['data_cadastro'].dt.strftime('%m-%Y')\n",
    "id_paciente['Mes_cadastro_atualizacao'] = id_paciente['data_atualizacao_cadastro'].dt.strftime('%m-%Y')\n",
    "id_paciente['Mes_cadastro_updated_at'] = id_paciente['updated_at'].dt.strftime('%m-%Y')"
   ]
  },
  {
   "cell_type": "code",
   "execution_count": 107,
   "metadata": {
    "collapsed": true
   },
   "outputs": [
    {
     "data": {
      "text/plain": [
       "08-2021    2827\n",
       "01-2022    2640\n",
       "07-2021    2602\n",
       "06-2022    2599\n",
       "06-2021    2499\n",
       "           ... \n",
       "05-2015       1\n",
       "03-2013       1\n",
       "12-2012       1\n",
       "02-2016       1\n",
       "01-2015       1\n",
       "Name: Mes_cadastro, Length: 105, dtype: int64"
      ]
     },
     "execution_count": 107,
     "metadata": {},
     "output_type": "execute_result"
    }
   ],
   "source": [
    "id_paciente['Mes_cadastro'].value_counts()"
   ]
  },
  {
   "cell_type": "markdown",
   "metadata": {},
   "source": [
    "#### Caracteristicas Demográficas"
   ]
  },
  {
   "cell_type": "code",
   "execution_count": 115,
   "metadata": {},
   "outputs": [],
   "source": [
    "caract_demo = pd.DataFrame(df_limpo, columns=['id_paciente','sexo','raca_cor', 'identidade_genero','orientacao_sexual','nacionalidade',\n",
    "                                         'data_nascimento','faixa_etaria' ])"
   ]
  },
  {
   "cell_type": "code",
   "execution_count": 116,
   "metadata": {},
   "outputs": [],
   "source": [
    "colunas = ['sexo','raca_cor', 'identidade_genero','orientacao_sexual','nacionalidade','faixa_etaria']"
   ]
  },
  {
   "cell_type": "code",
   "execution_count": 117,
   "metadata": {
    "collapsed": true
   },
   "outputs": [
    {
     "name": "stdout",
     "output_type": "stream",
     "text": [
      "\n",
      "Distribuição de sexo:\n",
      "female    53811\n",
      "male      43170\n",
      "Name: sexo, dtype: int64\n",
      "\n",
      "Distribuição de raca_cor:\n",
      "Parda       49272\n",
      "Branca      34103\n",
      "Preta       11037\n",
      "Amarela      2534\n",
      "Indígena       35\n",
      "Name: raca_cor, dtype: int64\n",
      "\n",
      "Distribuição de identidade_genero:\n",
      "Não                            68686\n",
      "Cis                            20359\n",
      "Mulher transexual               3683\n",
      "Homem transexual                1880\n",
      "Outro                           1298\n",
      "Heterossexual                    993\n",
      "Homossexual (gay / lésbica)       43\n",
      "Travesti                          33\n",
      "Bissexual                          6\n",
      "Name: identidade_genero, dtype: int64\n",
      "\n",
      "Distribuição de orientacao_sexual:\n",
      "Heterossexual                  91016\n",
      "Homossexual (gay / lésbica)     4001\n",
      "Outro                           1271\n",
      "Bissexual                        693\n",
      "Name: orientacao_sexual, dtype: int64\n",
      "\n",
      "Distribuição de nacionalidade:\n",
      "Brasileira      96652\n",
      "Estrangeiro       297\n",
      "Naturalizado       32\n",
      "Name: nacionalidade, dtype: int64\n",
      "\n",
      "Distribuição de faixa_etaria:\n",
      "30-44 anos    22046\n",
      "60+ anos      20976\n",
      "45-59 anos    18693\n",
      "0-17 anos     18105\n",
      "18-29 anos    16563\n",
      "Name: faixa_etaria, dtype: int64\n"
     ]
    }
   ],
   "source": [
    "distribuicao_variaveis_categoricas(caract_demo,colunas,plot=False)"
   ]
  },
  {
   "cell_type": "markdown",
   "metadata": {},
   "source": [
    "#### Caracteristicas Socioeconomicas"
   ]
  },
  {
   "cell_type": "code",
   "execution_count": 181,
   "metadata": {},
   "outputs": [],
   "source": [
    "cond_socio = pd.DataFrame(df_limpo,columns=['id_paciente','bairro','renda_familiar','escolaridade','ocupacao',\n",
    "                                      'situacao_profissional','em_situacao_de_rua','familia_beneficiaria_auxilio_brasil',\n",
    "                                      'luz_eletrica','frequenta_escola','Metrô', 'Carroça', 'Bicicleta',\n",
    "       'Animal', 'Caminhão', 'Carro', 'Ônibus', 'Alternativo', 'Outros',\n",
    "       'Marítimo', 'Trem', 'Rádio', 'Revista', 'Jornal', 'Televisão',\n",
    "       'Grupos Religiosos', 'Internet',],\n",
    "                         )"
   ]
  },
  {
   "cell_type": "code",
   "execution_count": 138,
   "metadata": {},
   "outputs": [],
   "source": [
    "variaveis = ['bairro','renda_familiar','escolaridade','ocupacao',\n",
    "                                      'situacao_profissional','em_situacao_de_rua','familia_beneficiaria_auxilio_brasil', 'luz_eletrica',\n",
    "                                'frequenta_escola',]"
   ]
  },
  {
   "cell_type": "code",
   "execution_count": 137,
   "metadata": {
    "collapsed": true
   },
   "outputs": [
    {
     "name": "stdout",
     "output_type": "stream",
     "text": [
      "\n",
      "Distribuição de bairro:\n",
      "Campo Grande                5695\n",
      "Santa cruz                  4168\n",
      "Bangu                       3845\n",
      "Realengo                    3258\n",
      "Guaratiba                   2755\n",
      "                            ... \n",
      "Xavantes                       1\n",
      "Serra Verde (Venda Nova)       1\n",
      "Jardim Maracanã                1\n",
      "Parque Ambaí                   1\n",
      "Prq                            1\n",
      "Name: bairro, Length: 737, dtype: int64\n",
      "\n",
      "Distribuição de renda_familiar:\n",
      "1 Salário Mínimo              42247\n",
      "2 Salários Mínimos            32385\n",
      "3 Salários Mínimos             9579\n",
      "1/2 Salário Mínimo             4682\n",
      "1/4 Salário Mínimo             3765\n",
      "4 Salários Mínimos             2767\n",
      "Mais de 4 Salários Mínimos     1556\n",
      "Name: renda_familiar, dtype: int64\n",
      "\n",
      "Distribuição de escolaridade:\n",
      "Médio Completo               31726\n",
      "Fundamental Incompleto       21146\n",
      "Fundamental Completo         13877\n",
      "Alfabetizado                  8268\n",
      "Não sabe ler/escrever         7981\n",
      "Médio Incompleto              6258\n",
      "Superior completo             5710\n",
      "Superior incompleto           1827\n",
      "Especialização/Residência       86\n",
      "Mestrado                        68\n",
      "Doutorado                       34\n",
      "Name: escolaridade, dtype: int64\n",
      "\n",
      "Distribuição de ocupacao:\n",
      "Não se aplica                            45622\n",
      "Vendedor de Comércio Varejista            2984\n",
      "Empregado Doméstico Diarista              2260\n",
      "Administrador                             2159\n",
      "Vendedor Em Domicílio                     1823\n",
      "                                         ...  \n",
      "Queijeiro na Fabricação de Laticínio         1\n",
      "Médico Cardiologista Intervencionista        1\n",
      "Inspetor de Soldagem                         1\n",
      "Sinaleiro (ponte-rolante)                    1\n",
      "Telhador (telhas Pláticas)                   1\n",
      "Name: ocupacao, Length: 1346, dtype: int64\n",
      "\n",
      "Distribuição de situacao_profissional:\n",
      "Emprego Formal                     32313\n",
      "Não se aplica                      17907\n",
      "Desempregado                       15689\n",
      "Emprego Informal                   12437\n",
      "Pensionista / Aposentado           10567\n",
      "Autônomo                            4434\n",
      "Outro                               1780\n",
      "Não trabalha                        1209\n",
      "Empregador                           358\n",
      "Autônomo sem previdência social      193\n",
      "Autônomo com previdência social       94\n",
      "Name: situacao_profissional, dtype: int64\n",
      "\n",
      "Distribuição de em_situacao_de_rua:\n",
      "0    96869\n",
      "1      112\n",
      "Name: em_situacao_de_rua, dtype: int64\n",
      "\n",
      "Distribuição de familia_beneficiaria_auxilio_brasil:\n",
      "0    84014\n",
      "1    12967\n",
      "Name: familia_beneficiaria_auxilio_brasil, dtype: int64\n",
      "\n",
      "Distribuição de luz_eletrica:\n",
      "1    90804\n",
      "0     6177\n",
      "Name: luz_eletrica, dtype: int64\n",
      "\n",
      "Distribuição de frequenta_escola:\n",
      "0    81622\n",
      "1    15359\n",
      "Name: frequenta_escola, dtype: int64\n",
      "\n",
      "Distribuição de crianca_matriculada_creche_pre_escola:\n",
      "0    66289\n",
      "1    30692\n",
      "Name: crianca_matriculada_creche_pre_escola, dtype: int64\n"
     ]
    }
   ],
   "source": [
    "distribuicao_variaveis_categoricas(cond_socio,variaveis,plot=False)"
   ]
  },
  {
   "cell_type": "markdown",
   "metadata": {},
   "source": [
    "#### Indicadores de Saude"
   ]
  },
  {
   "cell_type": "code",
   "execution_count": 182,
   "metadata": {},
   "outputs": [],
   "source": [
    "ind_saude= pd.DataFrame(df_limpo,columns=['id_paciente','obito','possui_plano_saude',\n",
    "                                   'vulnerabilidade_social','altura','peso','pressao_sistolica','pressao_sistolica',\n",
    "                                    'n_atendimentos_atencao_primaria','n_atendimentos_hospital', 'AIDS', 'Alcoolismo', 'Epilepsia',\n",
    "       'Malária', 'Transtorno Mental', 'Sintomático Respiratório',\n",
    "       'Intern. Psiq. Ult. 12 meses', 'Sintomático Dermatológico', 'Câncer',\n",
    "       'Def. Visual', 'Usuário de Psicofármacos', 'Asma', 'Def. Mental',\n",
    "       'Def. Auditiva', 'Hanseníase', 'Violência Doméstica', 'Tuberculose',\n",
    "       'Hipertensão', 'Usuário de Drogas Ilícitas', 'Def. Física', 'Diabetes',\n",
    "       'Tabagismo', 'Tentativa de Suicídio', 'Gestante', 'Farmácia',\n",
    "       'Rede Privada', 'Hospital Público', 'Auxílio Espiritual',\n",
    "       'Unidade de Saúde'])"
   ]
  },
  {
   "cell_type": "code",
   "execution_count": 162,
   "metadata": {
    "collapsed": true
   },
   "outputs": [
    {
     "data": {
      "text/plain": [
       "Index(['id_paciente', 'sexo', 'obito', 'bairro', 'raca_cor', 'ocupacao',\n",
       "       'religiao', 'luz_eletrica', 'data_cadastro', 'escolaridade',\n",
       "       'nacionalidade', 'renda_familiar', 'data_nascimento',\n",
       "       'em_situacao_de_rua', 'frequenta_escola', 'meios_transporte',\n",
       "       'doencas_condicoes', 'identidade_genero', 'meios_comunicacao',\n",
       "       'orientacao_sexual', 'possui_plano_saude', 'em_caso_doenca_procura',\n",
       "       'situacao_profissional', 'vulnerabilidade_social',\n",
       "       'data_atualizacao_cadastro', 'familia_beneficiaria_auxilio_brasil',\n",
       "       'crianca_matriculada_creche_pre_escola', 'altura', 'peso',\n",
       "       'pressao_sistolica', 'pressao_diastolica',\n",
       "       'n_atendimentos_atencao_primaria', 'n_atendimentos_hospital',\n",
       "       'updated_at', 'tipo', 'duplicados', 'Metrô', 'Carroça', 'Bicicleta',\n",
       "       'Animal', 'Caminhão', 'Carro', 'Ônibus', 'Alternativo', 'Outros',\n",
       "       'Marítimo', 'Trem', 'Rádio', 'Revista', 'Jornal', 'Televisão',\n",
       "       'Grupos Religiosos', 'Internet', 'AIDS', 'Alcoolismo', 'Epilepsia',\n",
       "       'Malária', 'Transtorno Mental', 'Sintomático Respiratório',\n",
       "       'Intern. Psiq. Ult. 12 meses', 'Sintomático Dermatológico', 'Câncer',\n",
       "       'Def. Visual', 'Usuário de Psicofármacos', 'Asma', 'Def. Mental',\n",
       "       'Def. Auditiva', 'Hanseníase', 'Violência Doméstica', 'Tuberculose',\n",
       "       'Hipertensão', 'Usuário de Drogas Ilícitas', 'Def. Física', 'Diabetes',\n",
       "       'Tabagismo', 'Tentativa de Suicídio', 'Gestante', 'Farmácia',\n",
       "       'Rede Privada', 'Hospital Público', 'Auxílio Espiritual',\n",
       "       'Unidade de Saúde', 'idade', 'faixa_etaria'],\n",
       "      dtype='object')"
      ]
     },
     "execution_count": 162,
     "metadata": {},
     "output_type": "execute_result"
    }
   ],
   "source": [
    "df_limpo.columns"
   ]
  },
  {
   "cell_type": "code",
   "execution_count": 151,
   "metadata": {
    "collapsed": true
   },
   "outputs": [
    {
     "data": {
      "image/png": "[encoded data removed]",
      "text/plain": [
       "<Figure size 576x432 with 1 Axes>"
      ]
     },
     "metadata": {
      "needs_background": "light"
     },
     "output_type": "display_data"
    },
    {
     "data": {
      "image/png": "[encoded data removed]",
      "text/plain": [
       "<Figure size 576x432 with 1 Axes>"
      ]
     },
     "metadata": {
      "needs_background": "light"
     },
     "output_type": "display_data"
    }
   ],
   "source": [
    "colunas= ['altura', 'peso']\n",
    "verificar_outliers(df_limpo,colunas)"
   ]
  },
  {
   "cell_type": "code",
   "execution_count": 146,
   "metadata": {
    "collapsed": true
   },
   "outputs": [
    {
     "data": {
      "image/png": "[encoded data removed]",
      "text/plain": [
       "<Figure size 576x432 with 1 Axes>"
      ]
     },
     "metadata": {
      "needs_background": "light"
     },
     "output_type": "display_data"
    },
    {
     "data": {
      "image/png": "[encoded data removed]",
      "text/plain": [
       "<Figure size 576x432 with 1 Axes>"
      ]
     },
     "metadata": {
      "needs_background": "light"
     },
     "output_type": "display_data"
    }
   ],
   "source": [
    "colunas= ['pressao_sistolica', 'pressao_diastolica']\n",
    "\n",
    "verificar_outliers(df_limpo,colunas)"
   ]
  },
  {
   "cell_type": "code",
   "execution_count": 299,
   "metadata": {},
   "outputs": [],
   "source": [
    "dado= ['pressao_diastolica']"
   ]
  },
  {
   "cell_type": "code",
   "execution_count": 152,
   "metadata": {},
   "outputs": [],
   "source": [
    "df_limpo = pd.DataFrame(tratar_outliers(df_limpo, colunas))\n"
   ]
  },
  {
   "cell_type": "code",
   "execution_count": 154,
   "metadata": {
    "collapsed": true
   },
   "outputs": [
    {
     "data": {
      "text/plain": [
       "count    94022.000000\n",
       "mean        63.475741\n",
       "std         27.936854\n",
       "min          3.760000\n",
       "25%         52.000000\n",
       "50%         68.000000\n",
       "75%         81.900000\n",
       "max        128.900000\n",
       "Name: peso, dtype: float64"
      ]
     },
     "execution_count": 154,
     "metadata": {},
     "output_type": "execute_result"
    }
   ],
   "source": [
    "df_limpo['peso'].describe()"
   ]
  },
  {
   "cell_type": "markdown",
   "metadata": {},
   "source": [
    " ### Banco de Dados"
   ]
  },
  {
   "cell_type": "code",
   "execution_count": 189,
   "metadata": {},
   "outputs": [],
   "source": [
    "# Criar a conexão com o banco de dados SQLite (ele será criado automaticamente se não existir)\n",
    "conn = sqlite3.connect('dados_ficha_a_desafio.db')\n",
    "cursor = conn.cursor()"
   ]
  },
  {
   "cell_type": "code",
   "execution_count": 177,
   "metadata": {},
   "outputs": [
    {
     "data": {
      "text/plain": [
       "<sqlite3.Cursor at 0x1fd889cf730>"
      ]
     },
     "execution_count": 177,
     "metadata": {},
     "output_type": "execute_result"
    }
   ],
   "source": [
    "# Criando a tabela id_paciente\n",
    "cursor.execute('''\n",
    "CREATE TABLE IF NOT EXISTS id_paciente (\n",
    "    id_paciente INTEGER PRIMARY KEY,\n",
    "    data_cadastro TEXT,\n",
    "    data_atualizacao_cadastro TEXT,\n",
    "    updated_at TEXT,\n",
    "    tipo TEXT\n",
    ");\n",
    "''')\n"
   ]
  },
  {
   "cell_type": "code",
   "execution_count": 178,
   "metadata": {},
   "outputs": [
    {
     "data": {
      "text/plain": [
       "<sqlite3.Cursor at 0x1fd889cf730>"
      ]
     },
     "execution_count": 178,
     "metadata": {},
     "output_type": "execute_result"
    }
   ],
   "source": [
    "# Criando a tabela caract_demo\n",
    "cursor.execute('''\n",
    "CREATE TABLE IF NOT EXISTS caract_demo (\n",
    "    id_paciente INTEGER PRIMARY KEY,\n",
    "    sexo TEXT,\n",
    "    raca_cor TEXT,\n",
    "    identidade_genero TEXT,\n",
    "    orientacao_sexual TEXT,\n",
    "    nacionalidade TEXT,\n",
    "    data_nascimento TEXT,\n",
    "    faixa_etaria TEXT,\n",
    "    FOREIGN KEY (id_paciente) REFERENCES id_paciente(id_paciente)\n",
    ");\n",
    "''')\n"
   ]
  },
  {
   "cell_type": "code",
   "execution_count": 179,
   "metadata": {},
   "outputs": [
    {
     "data": {
      "text/plain": [
       "<sqlite3.Cursor at 0x1fd889cf730>"
      ]
     },
     "execution_count": 179,
     "metadata": {},
     "output_type": "execute_result"
    }
   ],
   "source": [
    "# Criando a tabela cond_socio\n",
    "cursor.execute('''\n",
    "CREATE TABLE IF NOT EXISTS cond_socio (\n",
    "    id_paciente INTEGER PRIMARY KEY,\n",
    "    bairro TEXT,\n",
    "    renda_familiar REAL,\n",
    "    escolaridade TEXT,\n",
    "    ocupacao TEXT,\n",
    "    situacao_profissional TEXT,\n",
    "    em_situacao_de_rua INTEGER,\n",
    "    familia_beneficiaria_auxilio_brasil INTEGER,\n",
    "    luz_eletrica INTEGER,\n",
    "    frequenta_escola INTEGER,\n",
    "    Metrô INTEGER,\n",
    "    Carroça INTEGER,\n",
    "    Bicicleta INTEGER,\n",
    "    Animal INTEGER,\n",
    "    Caminhão INTEGER,\n",
    "    Carro INTEGER,\n",
    "    Ônibus INTEGER,\n",
    "    Alternativo INTEGER,\n",
    "    Outros INTEGER,\n",
    "    Marítimo INTEGER,\n",
    "    Trem INTEGER,\n",
    "    Rádio INTEGER,\n",
    "    Revista INTEGER,\n",
    "    Jornal INTEGER,\n",
    "    Televisão INTEGER,\n",
    "    Grupos_Religiosos INTEGER,\n",
    "    Internet INTEGER,\n",
    "    FOREIGN KEY (id_paciente) REFERENCES id_paciente(id_paciente)\n",
    ");\n",
    "''')\n"
   ]
  },
  {
   "cell_type": "code",
   "execution_count": 170,
   "metadata": {},
   "outputs": [
    {
     "data": {
      "text/plain": [
       "<sqlite3.Cursor at 0x1fdd1005e30>"
      ]
     },
     "execution_count": 170,
     "metadata": {},
     "output_type": "execute_result"
    }
   ],
   "source": [
    "# Criando a tabela ind_saude\n",
    "cursor.execute('''\n",
    "CREATE TABLE IF NOT EXISTS ind_saude (\n",
    "    id_paciente INTEGER PRIMARY KEY,\n",
    "    obito INTEGER,\n",
    "    possui_plano_saude INTEGER,\n",
    "    vulnerabilidade_social TEXT,\n",
    "    altura REAL,\n",
    "    peso REAL,\n",
    "    pressao_sistolica INTEGER,\n",
    "    pressao_diastolica INTEGER,\n",
    "    n_atendimentos_atencao_primaria INTEGER,\n",
    "    n_atendimentos_hospital INTEGER,\n",
    "    AIDS INTEGER,\n",
    "    Alcoolismo INTEGER,\n",
    "    Epilepsia INTEGER,\n",
    "    Malária INTEGER,\n",
    "    Transtorno_Mental INTEGER,\n",
    "    Sintomático_Respiratório INTEGER,\n",
    "    Intern_Psiq_Ult_12_meses INTEGER,\n",
    "    Sintomático_Dermatológico INTEGER,\n",
    "    Câncer INTEGER,\n",
    "    Def_Visual INTEGER,\n",
    "    Usuario_de_Psicofármacos INTEGER,\n",
    "    Asma INTEGER,\n",
    "    Def_Mental INTEGER,\n",
    "    Def_Auditiva INTEGER,\n",
    "    Hanseníase INTEGER,\n",
    "    Violência_Doméstica INTEGER,\n",
    "    Tuberculose INTEGER,\n",
    "    Hipertensão INTEGER,\n",
    "    Usuario_de_Drogas_Ilícitas INTEGER,\n",
    "    Def_Física INTEGER,\n",
    "    Diabetes INTEGER,\n",
    "    Tabagismo INTEGER,\n",
    "    Tentativa_de_Suicídio INTEGER,\n",
    "    Gestante INTEGER,\n",
    "    Farmácia INTEGER,\n",
    "    Rede_Privada INTEGER,\n",
    "    Hospital_Público INTEGER,\n",
    "    Auxílio_Espiritual INTEGER,\n",
    "    Unidade_de_Saúde INTEGER,\n",
    "    FOREIGN KEY (id_paciente) REFERENCES id_paciente(id_paciente)\n",
    ");\n",
    "''')"
   ]
  },
  {
   "cell_type": "code",
   "execution_count": 180,
   "metadata": {},
   "outputs": [],
   "source": [
    "# Commit para salvar as alterações\n",
    "conn.commit()\n",
    "\n",
    "# Fechar a conexão\n",
    "conn.close()"
   ]
  },
  {
   "cell_type": "code",
   "execution_count": 183,
   "metadata": {},
   "outputs": [],
   "source": [
    "# Definir a URL de conexão com o banco de dados SQLite\n",
    "db_url = 'sqlite:///dados_ficha_a_desafio.db'\n"
   ]
  },
  {
   "cell_type": "code",
   "execution_count": 184,
   "metadata": {},
   "outputs": [],
   "source": [
    "# Criar conexão com o banco usando SQLAlchemy\n",
    "engine = create_engine(db_url)\n"
   ]
  },
  {
   "cell_type": "code",
   "execution_count": 185,
   "metadata": {},
   "outputs": [],
   "source": [
    "# Carregar os dados nas tabelas SQLite\n",
    "cond_socio.to_sql('cond_socio', engine, if_exists='replace', index=False)\n",
    "ind_saude.to_sql('ind_saude', engine, if_exists='replace', index=False)\n",
    "id_paciente.to_sql('id_paciente', engine, if_exists='replace', index=False)\n",
    "caract_demo.to_sql('caract_demo', engine, if_exists='replace', index=False)\n"
   ]
  },
  {
   "cell_type": "code",
   "execution_count": null,
   "metadata": {},
   "outputs": [],
   "source": []
  }
 ],
 "metadata": {
  "kernelspec": {
   "display_name": "Python 3",
   "language": "python",
   "name": "python3"
  },
  "language_info": {
   "codemirror_mode": {
    "name": "ipython",
    "version": 3
   },
   "file_extension": ".py",
   "mimetype": "text/x-python",
   "name": "python",
   "nbconvert_exporter": "python",
   "pygments_lexer": "ipython3",
   "version": "3.8.3"
  }
 },
 "nbformat": 4,
 "nbformat_minor": 4
}
